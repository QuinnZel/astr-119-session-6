{
 "cells": [
  {
   "cell_type": "markdown",
   "id": "a39f0fa2",
   "metadata": {},
   "source": [
    "# Making multipanel plots with matplotlib"
   ]
  },
  {
   "cell_type": "code",
   "execution_count": null,
   "id": "6fd1f6ec",
   "metadata": {},
   "outputs": [],
   "source": [
    "%matplotlib inline\n",
    "import numpy as np\n",
    "import matplotlib.pyplot as plt"
   ]
  },
  {
   "cell_type": "markdown",
   "id": "719f3f8a",
   "metadata": {},
   "source": [
    "Then we define an array of angles, and their sines and cosines using numpy. This time we will use linspace"
   ]
  },
  {
   "cell_type": "code",
   "execution_count": null,
   "id": "a6ddacc0",
   "metadata": {},
   "outputs": [],
   "source": [
    "x = np.linspace(0,2*np.pi,100)\n",
    "print(x[-1],2*np.pi)\n",
    "\n",
    "y = np.sin(x)\n",
    "z = np.cos(x)\n",
    "w = np.sin(4*x)\n",
    "v = np.cos(4*x)"
   ]
  },
  {
   "cell_type": "markdown",
   "id": "4f6cccb3",
   "metadata": {},
   "source": [
    "Now, let's make a two panel plot side-by-side\n",
    "Here we can see that matplotlib has the panels too close together.\n",
    "\n",
    "We can adjust that using the subplots_adjust() function"
   ]
  },
  {
   "cell_type": "code",
   "execution_count": null,
   "id": "5521453d",
   "metadata": {},
   "outputs": [],
   "source": [
    "#call subplots to generate a multipanel figure. This means 1 row, 2 columns of figures\n",
    "f, axarr = plt.subplots(1, 2)\n",
    "\n",
    "#treat axarr as an array, from left to right\n",
    "\n",
    "#first panel on the left\n",
    "axarr[0].plot(x,y)\n",
    "axarr[0].set_xlabel('x')\n",
    "axarr[0].set_ylabel('sin(x)')\n",
    "axarr[0].set_title(r'$\\sin(x)$')\n",
    "#second panel on the right\n",
    "axarr[1].plot(x, z)\n",
    "axarr[1].set_xlabel('x')\n",
    "axarr[1].set_ylabel('cos(x)')\n",
    "axarr[1].set_title(r'$\\cos(x)$')\n",
    "\n",
    "#add more space between the figures\n",
    "f.subplots_adjust(wspace=0.4)\n",
    "\n",
    "#fix the axis ratio\n",
    "#here are two possible options\n",
    "axarr[0].set_aspect('equal')   #make the ratio of the tick units equal, a bit counter intuitive\n",
    "axarr[1].set_aspect(np.pi)     #make a square by setting the aspect to be the ratio of the tick unit range"
   ]
  },
  {
   "cell_type": "code",
   "execution_count": null,
   "id": "8be1b6df",
   "metadata": {},
   "outputs": [],
   "source": [
    "#adjust the size of the figure\n",
    "fig = plt.figure(figsize=(6,6))\n",
    "\n",
    "\n",
    "plt.plot(x, y, label=r'$y = \\sin(x)$')  #add a label to the line\n",
    "plt.plot(x, z, label=r'$y = \\cos(x)$')  #add a label to the second line\n",
    "plt.plot(x, w, label=r'$y = \\sin(4x)$') #add a label to the third line\n",
    "plt.plot(x, v, label=r'$y = \\cos(4x)$') #add a label to the fourth line\n",
    "\n",
    "plt.xlabel(r'$x$')                      #note set_xlabel vs. xlabel\n",
    "plt.ylabel(r'$y(x)$')                   #note set_ylabel vs. ylabel\n",
    "plt.xlim([0,2*np.pi])                   #note set_xlim vs. xlim\n",
    "plt.ylim([-1.2,1.2])                    #note set_ylim vs. ylim\n",
    "plt.legend(loc=1,framealpha=0.95)       #add a legend with a semi-transparent frame in the upper RH corner\n",
    "\n",
    "#fix the axis ratio\n",
    "plt.gca().set_aspect(np.pi/1.2)   #use \"gca\" to get the current axis()"
   ]
  }
 ],
 "metadata": {
  "kernelspec": {
   "display_name": "Python 3 (ipykernel)",
   "language": "python",
   "name": "python3"
  },
  "language_info": {
   "codemirror_mode": {
    "name": "ipython",
    "version": 3
   },
   "file_extension": ".py",
   "mimetype": "text/x-python",
   "name": "python",
   "nbconvert_exporter": "python",
   "pygments_lexer": "ipython3",
   "version": "3.10.0"
  }
 },
 "nbformat": 4,
 "nbformat_minor": 5
}
